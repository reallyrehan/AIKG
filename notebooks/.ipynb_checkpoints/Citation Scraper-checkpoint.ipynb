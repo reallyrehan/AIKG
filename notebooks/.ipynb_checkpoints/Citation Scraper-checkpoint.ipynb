{
 "cells": [
  {
   "cell_type": "code",
   "execution_count": 175,
   "metadata": {},
   "outputs": [],
   "source": [
    "import os\n",
    "import pandas as pd\n",
    "import numpy as np \n",
    "import requests\n",
    "import time"
   ]
  },
  {
   "cell_type": "code",
   "execution_count": 176,
   "metadata": {},
   "outputs": [],
   "source": [
    "os.listdir(\"../data\")\n",
    "\n",
    "df=pd.read_csv('../data/semantic_scholar_articles_20000.csv',chunksize = 1)"
   ]
  },
  {
   "cell_type": "code",
   "execution_count": 177,
   "metadata": {},
   "outputs": [],
   "source": [
    "def printPercent(line_c):\n",
    "    global perc\n",
    "    if line_c%25==0:\n",
    "        perc = perc+0.125\n",
    "        print(perc,end=\"%\\n\")"
   ]
  },
  {
   "cell_type": "code",
   "execution_count": null,
   "metadata": {},
   "outputs": [
    {
     "name": "stdout",
     "output_type": "stream",
     "text": [
      "-0.375%\n"
     ]
    }
   ],
   "source": [
    "f = open(\"output.txt\",\"w+\")\n",
    "perc = -0.125\n",
    "line_count = 0\n",
    "\n",
    "for line in df:\n",
    "    results = {\"search_text\":\"\",\"semantic_df_index\":-1,\"top_hits\":{}}\n",
    "    \n",
    "    time.sleep(2)\n",
    "    \n",
    "    if line_count >20:\n",
    "        break\n",
    "        \n",
    "    printPercent(line_count)\n",
    "    line_count = line_count+1\n",
    "    \n",
    "    search_text = line['title'].iloc[0]\n",
    "\n",
    "    response = requests.get(\"https://dblp.org/search/publ/api?q=\"+search_text+\"&format=json\")\n",
    "\n",
    "    try:\n",
    "        hit_json = response.json()['result']['hits']['hit']\n",
    "    except:\n",
    "        hit_json = []\n",
    "\n",
    "    if len(hit_json)>0:\n",
    "        cur_score = hit_json[0][\"@score\"]\n",
    "        \n",
    "        hit_count = 0\n",
    "        \n",
    "        for h in hit_json:\n",
    "            \n",
    "            if h[\"@score\"]!=cur_score or hit_count>2:\n",
    "                break\n",
    "            else:\n",
    "                cur_score = h[\"@score\"]\n",
    "                \n",
    "            hit_count = hit_count+1\n",
    "            \n",
    "            try:\n",
    "                doi_id = h['info']['doi']\n",
    "            except:\n",
    "                continue\n",
    "\n",
    "            #CrossRef\n",
    "            try:\n",
    "                citations = requests.get(\"https://api.crossref.org/works/\"+doi_id)\n",
    "                h['references_crossref']=citations.json()['message']['reference']\n",
    "            except:\n",
    "                pass\n",
    "\n",
    "            #OpenCitations\n",
    "            try:\n",
    "                citations_2 = requests.get(\"https://opencitations.net/index/api/v1/citations/\"+doi_id+\"?format=json&exclude=citing&sort=desc(creation)&\")\n",
    "                h['references_opencitations']=citations_2.json()\n",
    "            except:\n",
    "                pass\n",
    "\n",
    "    try:\n",
    "        results[\"search_text\"] = search_text\n",
    "    except:\n",
    "        results[\"search_text\"] = \"\"\n",
    "    try:\n",
    "        results[\"semantic_df_index\"] = line.index[0]\n",
    "    except:\n",
    "        results[\"semantic_df_index\"]= -1\n",
    "    try:\n",
    "        results[\"top_hits\"] = hit_json \n",
    "    except:\n",
    "        results[\"top_hits\"] = {}\n",
    "        \n",
    "    f.write(json.dumps(results)+\",\")\n",
    "\n",
    "f.close()"
   ]
  },
  {
   "cell_type": "code",
   "execution_count": 174,
   "metadata": {},
   "outputs": [
    {
     "data": {
      "text/plain": [
       "21"
      ]
     },
     "execution_count": 174,
     "metadata": {},
     "output_type": "execute_result"
    }
   ],
   "source": []
  },
  {
   "cell_type": "code",
   "execution_count": null,
   "metadata": {},
   "outputs": [],
   "source": []
  },
  {
   "cell_type": "code",
   "execution_count": 133,
   "metadata": {},
   "outputs": [],
   "source": [
    "f = open(\"output.txt\",\"r\")"
   ]
  },
  {
   "cell_type": "code",
   "execution_count": 135,
   "metadata": {},
   "outputs": [],
   "source": [
    "js = json.load(f)"
   ]
  },
  {
   "cell_type": "code",
   "execution_count": 141,
   "metadata": {},
   "outputs": [
    {
     "data": {
      "text/plain": [
       "{'search_text': '',\n",
       " 'semantic_df_index': -1,\n",
       " 'top_hits': [{'@score': '8',\n",
       "   '@id': '1024764',\n",
       "   'info': {'authors': {'author': [{'@pid': '185/6899', 'text': 'Zhun Sun'},\n",
       "      {'@pid': '26/5515', 'text': 'Mete Ozay'},\n",
       "      {'@pid': '04/3348-55', 'text': 'Yan Zhang 0055'},\n",
       "      {'@pid': '87/3144-10', 'text': 'Xing Liu 0010'},\n",
       "      {'@pid': '18/4811', 'text': 'Takayuki Okatani'}]},\n",
       "    'title': 'Feature Quantization for Defending Against Distortion of Images.',\n",
       "    'venue': 'CVPR',\n",
       "    'pages': '7957-7966',\n",
       "    'year': '2018',\n",
       "    'type': 'Conference and Workshop Papers',\n",
       "    'key': 'conf/cvpr/SunOZLO18',\n",
       "    'doi': '10.1109/CVPR.2018.00830',\n",
       "    'ee': 'http://openaccess.thecvf.com/content_cvpr_2018/html/Sun_Feature_Quantization_for_CVPR_2018_paper.html',\n",
       "    'url': 'https://dblp.org/rec/conf/cvpr/SunOZLO18'},\n",
       "   'url': 'URL#1024764',\n",
       "   'references_opencitations': [{'cited': 'coci => 10.1109/cvpr.2018.00830',\n",
       "     'author_sc': 'coci => no',\n",
       "     'timespan': 'coci => P1Y',\n",
       "     'creation': 'coci => 2019',\n",
       "     'oci': 'coci => 020010000073609070863036300030063010309040063074901-0200101000936123125273702000108370000080300',\n",
       "     'citing': 'coci => 10.1007/978-3-030-13940-7_1',\n",
       "     'journal_sc': 'coci => no'}]}]}"
      ]
     },
     "execution_count": 141,
     "metadata": {},
     "output_type": "execute_result"
    }
   ],
   "source": [
    "js[3]"
   ]
  },
  {
   "cell_type": "code",
   "execution_count": 106,
   "metadata": {},
   "outputs": [],
   "source": [
    "import json"
   ]
  },
  {
   "cell_type": "code",
   "execution_count": 108,
   "metadata": {},
   "outputs": [
    {
     "data": {
      "text/plain": [
       "78421"
      ]
     },
     "execution_count": 108,
     "metadata": {},
     "output_type": "execute_result"
    }
   ],
   "source": [
    "len(json.dumps(results))"
   ]
  },
  {
   "cell_type": "code",
   "execution_count": 111,
   "metadata": {},
   "outputs": [
    {
     "data": {
      "text/plain": [
       "[0]"
      ]
     },
     "execution_count": 111,
     "metadata": {},
     "output_type": "execute_result"
    }
   ],
   "source": [
    "results[\"semantic_df_index\"]"
   ]
  },
  {
   "cell_type": "code",
   "execution_count": 62,
   "metadata": {},
   "outputs": [
    {
     "data": {
      "text/plain": [
       "105"
      ]
     },
     "execution_count": 62,
     "metadata": {},
     "output_type": "execute_result"
    }
   ],
   "source": []
  },
  {
   "cell_type": "code",
   "execution_count": null,
   "metadata": {},
   "outputs": [],
   "source": []
  },
  {
   "cell_type": "code",
   "execution_count": null,
   "metadata": {},
   "outputs": [],
   "source": []
  },
  {
   "cell_type": "code",
   "execution_count": null,
   "metadata": {},
   "outputs": [],
   "source": []
  },
  {
   "cell_type": "markdown",
   "metadata": {},
   "source": [
    "# Open Citations"
   ]
  },
  {
   "cell_type": "code",
   "execution_count": 69,
   "metadata": {},
   "outputs": [],
   "source": [
    "response = requests.get(\"https://dblp.org/search/publ/api?q=\"+list(merged_ai['title'].head(10))[6]+\"&format=json\")"
   ]
  },
  {
   "cell_type": "code",
   "execution_count": 126,
   "metadata": {},
   "outputs": [],
   "source": [
    "response = requests.get(\"https://dblp.org/search/publ/api?q=A Practical Guide to Hybrid Natural Language Processin&format=json\")"
   ]
  },
  {
   "cell_type": "code",
   "execution_count": 127,
   "metadata": {},
   "outputs": [
    {
     "data": {
      "text/plain": [
       "{'result': {'query': 'A Practical* Guide* to Hybrid* Natural* Language* Processin*',\n",
       "  'status': {'@code': '200', 'text': 'OK'},\n",
       "  'time': {'@unit': 'msecs', 'text': '477.63'},\n",
       "  'completions': {'@total': '1',\n",
       "   '@computed': '1',\n",
       "   '@sent': '1',\n",
       "   'c': {'@sc': '1',\n",
       "    '@dc': '1',\n",
       "    '@oc': '1',\n",
       "    '@id': '26353806',\n",
       "    'text': 'processing'}},\n",
       "  'hits': {'@total': '1',\n",
       "   '@computed': '1',\n",
       "   '@sent': '1',\n",
       "   '@first': '0',\n",
       "   'hit': [{'@score': '9',\n",
       "     '@id': '50922',\n",
       "     'info': {'authors': {'author': [{'@pid': '74/9922',\n",
       "         'text': 'José Manuél Gómez-Pérez'},\n",
       "        {'@pid': '84/3126', 'text': 'Ronald Denaux'},\n",
       "        {'@pid': '59/4344', 'text': 'Andrés García-Silva'}]},\n",
       "      'title': 'A Practical Guide to Hybrid Natural Language Processing - Combining Neural Models and Knowledge Graphs for NLP',\n",
       "      'pages': '1-268',\n",
       "      'publisher': 'Springer',\n",
       "      'year': '2020',\n",
       "      'type': 'Books and Theses',\n",
       "      'key': 'books/sp/Gomez-PerezDG20',\n",
       "      'doi': '10.1007/978-3-030-44830-1',\n",
       "      'ee': 'https://doi.org/10.1007/978-3-030-44830-1',\n",
       "      'url': 'https://dblp.org/rec/books/sp/Gomez-PerezDG20'},\n",
       "     'url': 'URL#50922'}]}}}"
      ]
     },
     "execution_count": 127,
     "metadata": {},
     "output_type": "execute_result"
    }
   ],
   "source": [
    "response.json()"
   ]
  },
  {
   "cell_type": "code",
   "execution_count": 128,
   "metadata": {},
   "outputs": [
    {
     "data": {
      "text/plain": [
       "{'@score': '9',\n",
       " '@id': '50922',\n",
       " 'info': {'authors': {'author': [{'@pid': '74/9922',\n",
       "     'text': 'José Manuél Gómez-Pérez'},\n",
       "    {'@pid': '84/3126', 'text': 'Ronald Denaux'},\n",
       "    {'@pid': '59/4344', 'text': 'Andrés García-Silva'}]},\n",
       "  'title': 'A Practical Guide to Hybrid Natural Language Processing - Combining Neural Models and Knowledge Graphs for NLP',\n",
       "  'pages': '1-268',\n",
       "  'publisher': 'Springer',\n",
       "  'year': '2020',\n",
       "  'type': 'Books and Theses',\n",
       "  'key': 'books/sp/Gomez-PerezDG20',\n",
       "  'doi': '10.1007/978-3-030-44830-1',\n",
       "  'ee': 'https://doi.org/10.1007/978-3-030-44830-1',\n",
       "  'url': 'https://dblp.org/rec/books/sp/Gomez-PerezDG20'},\n",
       " 'url': 'URL#50922'}"
      ]
     },
     "execution_count": 128,
     "metadata": {},
     "output_type": "execute_result"
    }
   ],
   "source": [
    "response.json()['result']['hits']['hit'][0]"
   ]
  },
  {
   "cell_type": "markdown",
   "metadata": {},
   "source": [
    "Work on extracting doi part"
   ]
  },
  {
   "cell_type": "code",
   "execution_count": 129,
   "metadata": {},
   "outputs": [
    {
     "data": {
      "text/plain": [
       "'10.1007/978-3-030-44830-1'"
      ]
     },
     "execution_count": 129,
     "metadata": {},
     "output_type": "execute_result"
    }
   ],
   "source": [
    "response.json()['result']['hits']['hit'][0]['info']['doi']"
   ]
  },
  {
   "cell_type": "code",
   "execution_count": 130,
   "metadata": {},
   "outputs": [],
   "source": [
    "arxiv_id = response.json()['result']['hits']['hit'][0]['info']['doi']"
   ]
  },
  {
   "cell_type": "code",
   "execution_count": 131,
   "metadata": {},
   "outputs": [
    {
     "data": {
      "text/plain": [
       "'10.1007/978-3-030-44830-1'"
      ]
     },
     "execution_count": 131,
     "metadata": {},
     "output_type": "execute_result"
    }
   ],
   "source": [
    "arxiv_id"
   ]
  },
  {
   "cell_type": "code",
   "execution_count": 144,
   "metadata": {},
   "outputs": [],
   "source": [
    "citations = requests.get(\"https://opencitations.net/index/api/v1/citations/\"+arxiv_id+\"?format=json&exclude=citing&sort=desc(creation)&\")"
   ]
  },
  {
   "cell_type": "code",
   "execution_count": 145,
   "metadata": {},
   "outputs": [
    {
     "data": {
      "text/plain": [
       "'https://api.crossref.org/works/10.1007/978-3-030-44830-1'"
      ]
     },
     "execution_count": 145,
     "metadata": {},
     "output_type": "execute_result"
    }
   ],
   "source": [
    "\"https://api.crossref.org/works/\"+arxiv_id"
   ]
  },
  {
   "cell_type": "code",
   "execution_count": 148,
   "metadata": {},
   "outputs": [
    {
     "data": {
      "text/plain": [
       "{'cited': 'coci => 10.1007/978-3-030-44830-1',\n",
       " 'author_sc': 'coci => no',\n",
       " 'timespan': 'coci => P0Y',\n",
       " 'creation': 'coci => 2020-10-30',\n",
       " 'oci': 'coci => 020020200003628000100060014130131000134020002000100172129000408-02001000007360907086303630003006304040803006301',\n",
       " 'citing': 'coci => 10.2200/s01060ed1v01y202010hlt048',\n",
       " 'journal_sc': 'coci => no'}"
      ]
     },
     "execution_count": 148,
     "metadata": {},
     "output_type": "execute_result"
    }
   ],
   "source": [
    "citations.json()[0]"
   ]
  },
  {
   "cell_type": "code",
   "execution_count": 152,
   "metadata": {},
   "outputs": [
    {
     "data": {
      "text/plain": [
       "'10.2200/s01060ed1v01y202010hlt048'"
      ]
     },
     "execution_count": 152,
     "metadata": {},
     "output_type": "execute_result"
    }
   ],
   "source": [
    "citations.json()[0]['citing'].split(\" => \")[1]"
   ]
  },
  {
   "cell_type": "code",
   "execution_count": 153,
   "metadata": {},
   "outputs": [],
   "source": [
    "page_details_from_doi = citations = requests.get(\"https://opencitations.net/index/api/v1/metadata/\"+citations.json()[0]['citing'].split(\" => \")[1])"
   ]
  },
  {
   "cell_type": "code",
   "execution_count": 154,
   "metadata": {},
   "outputs": [
    {
     "data": {
      "text/plain": [
       "[{'title': 'Conversational Ai: Dialogue Systems, Conversational Agents, And Chatbots',\n",
       "  'author': 'Mctear, Michael',\n",
       "  'volume': '13',\n",
       "  'citation': '',\n",
       "  'issue': '3',\n",
       "  'oa_link': '',\n",
       "  'citation_count': '0',\n",
       "  'year': '2020',\n",
       "  'source_title': 'Synthesis Lectures On Human Language Technologies',\n",
       "  'doi': '10.2200/s01060ed1v01y202010hlt048',\n",
       "  'reference': '10.1016/j.csl.2009.03.002; 10.1016/j.csl.2009.04.001; 10.1016/j.csl.2009.07.003; 10.1016/j.csl.2012.05.004; 10.1016/j.csl.2013.09.002; 10.1016/j.csl.2015.01.001; 10.1016/j.csl.2018.09.004; 10.1016/j.csl.2019.06.009; 10.1016/j.ijhcs.2004.11.009; 10.1016/j.ijmedinf.2008.07.017; 10.1016/j.inffus.2020.01.010; 10.1016/j.specom.2008.03.008; 10.1016/j.specom.2008.03.010; 10.1016/j.specom.2008.04.001; 10.1016/j.specom.2009.01.008; 10.1016/j.specom.2009.06.007; 10.1016/j.specom.2015.06.003; 10.1016/s0004-3702(02)00370-3; 10.1016/s0167-6393(02)00126-7; 10.1016/s0167-6393(97)00040-x; 10.1017/cbo9780511519857; 10.1017/cbo9780511791208; 10.1017/cbo9781139173438; 10.1017/s0047404500016572; 10.1017/s0269888906000944; 10.1017/s0269888912000343; 10.1017/s1351324900002497; 10.1017/s1351324900002503; 10.1017/s1351324900002539; 10.1038/nature14539; 10.1075/ijcl.10.4.06sha; 10.1093/mind/lix.236.433; 10.1093/oxfordhb/9780199942237.001.0001; 10.1098/rsta.2000.0593; 10.1109/78.650093; 10.1109/89.817450; 10.1109/asru.1997.658991; 10.1109/asru.2005.1566485; 10.1109/asru.2005.1566518; 10.1109/jproc.2012.2225812; 10.1109/mis.2019.2954966; 10.1109/mprv.2018.022511249; 10.1109/msp.2012.2205597; 10.1109/msp.2016.2617341; 10.1109/roman.2010.5598665; 10.1109/slt.2014.7078595; 10.1109/slt.2010.5700864; 10.1109/taslp.2014.2303296; 10.1109/tasl.2008.2012071; 10.1109/tasl.2010.2093520; 10.1109/tsa.2003.814380; 10.1145/1017494.1017496; 10.1145/3107990.3107993; 10.1145/3107990.3107996; 10.1145/3166054.3166058; 10.1145/365153.365168; 10.1162/089120100561737; 10.1162/coli.2008.07-028-r2-05-82; 10.1162/coli.2009.35.4.35405; 10.1162/coli_a_00038; 10.1162/coli_a_00199; 10.1162/coli_a_00368; 10.1162/neco.1997.9.8.1735; 10.1162/neco.2006.18.7.1527; 10.1162/tacl_a_00051; 10.1201/b10461; 10.1201/b15477-9; 10.1207/s15516709cog0303_1; 10.1609/aimag.v39i3.2810; 10.1613/jair.859; 10.1613/jair.971; 10.18653/v1/d19-1052; 10.18653/v1/d19-1131; 10.18653/v1/d19-1194; 10.18653/v1/p18-1101; 10.18653/v1/p18-1136; 10.18653/v1/w15-4642; 10.18653/v1/w16-3628; 10.18653/v1/w18-0802; 10.18653/v1/w18-5048; 10.18653/v1/w18-6514; 10.18653/v1/w19-5904; 10.18653/v1/w19-5931; 10.21437/interspeech.2016-1175; 10.21437/interspeech.2016-402; 10.21437/ssw.2019-19; 10.2200/s00636ed1v01y201503hci030; 10.3115/1075812.1075857; 10.3115/1118121.1118137; 10.3115/1626315.1626318; 10.3115/974499.974549; 10.3115/976909.979652; 10.3115/v1/d14-1162; 10.3115/v1/p14-5010; 10.3115/v1/w14-4328; 10.3115/v1/w14-4337; 10.4324/9781315750583-10; 10.5087/dad.2011.105; 10.5087/dad.2011.111; 10.5626/jcse.2010.4.1.001; 10.7551/mitpress/1140.001.0001; 10.7551/mitpress/2019.001.0001; 10.7551/mitpress/2697.001.0001; 10.7551/mitpress/9072.001.0001; 10.1001/jamainternmed.2016.0400; 10.1002/9780470511275; 10.1002/9781118541241; 10.1002/9781118601938; 10.1002/9781119992691.ch3; 10.1006/csla.1998.0110; 10.1007/1-4020-3933-6_2; 10.1007/3-540-36678-4; 10.1007/978-0-387-73819-2_8; 10.1007/978-0-85729-414-2; 10.1007/978-1-4020-6710-5_12; 10.1007/978-1-4020-6710-5_13; 10.1007/978-1-4614-4803-7_3; 10.1007/978-1-4614-4803-7_4; 10.1007/978-1-4614-4803-7_6; 10.1007/978-1-4614-4803-7_7; 10.1007/978-1-4614-8280-2; 10.1007/978-1-4614-8280-2_19; 10.1007/978-3-030-05204-1_13; 10.1007/978-3-030-33540-3_12; 10.1007/978-3-030-44830-1; 10.1007/978-3-319-32967-3; 10.1007/978-3-319-42816-1; 10.1007/978-3-319-42816-1_6; 10.1007/978-3-540-24842-2_17; 10.1007/978-3-642-24942-6; 10.1007/978-3-642-34584-5_9; 10.1007/978-3-642-83230-7; 10.1007/978-3-662-04230-4_32; 10.1007/978-3-662-04230-4_40; 10.1007/978-981-10-2585-3; 10.1007/978-981-10-5209-5_3; 10.1007/978-981-10-6626-9_23; 10.1007/978-981-13-9443-0_14; 10.1007/s10462-007-9059-9; 10.1016/0004-3702(77)90018-2; 10.1016/0004-3702(80)90042-9; 10.1016/0004-3702(90)90055-5; 10.1016/0010-0285(72)90002-3; 10.1016/0885-2308(91)90019-m; 10.1016/b978-0-12-623550-0.50008-2; 10.1016/j.chb.2014.10.030; 10.1016/j.csl.2010.10.003; 10.1016/j.csl.2010.03.001; 10.1016/j.csl.2010.04.005; 10.1016/j.csl.2005.11.003; 10.1016/j.csl.2006.06.008; 10.1016/j.csl.2008.10.001',\n",
       "  'source_id': 'issn:1947-4040; issn:1947-4059',\n",
       "  'page': '1-251'}]"
      ]
     },
     "execution_count": 154,
     "metadata": {},
     "output_type": "execute_result"
    }
   ],
   "source": [
    "page_details_from_doi.json()"
   ]
  },
  {
   "cell_type": "code",
   "execution_count": null,
   "metadata": {},
   "outputs": [],
   "source": []
  },
  {
   "cell_type": "markdown",
   "metadata": {},
   "source": [
    "Semantic Scholar\n",
    "https://api.semanticscholar.org/v1/paper/10.1002/CPE.5986?include_unknown_references=true&mailto=ajax@dblp.org\n",
    "\n",
    "Cross Ref\n",
    "https://dblp.org/rec/journals/concurrency/CoroPPP21.html\n",
    "https://api.crossref.org/works/10.1002/CPE.5986?mailto=ajax@dblp.org\n",
    "\n",
    "https://dblp.org/rec/journals/fdgth/WalshCG21.html\n",
    "https://api.crossref.org/works/10.3389/FDGTH.2021.598431?mailto=ajax@dblp.org\n",
    "\n",
    "\n",
    "OpenCitations\n",
    "https://dblp.org/rec/journals/midm/DahlRHBHGNO21.html\n",
    "https://opencitations.net/index/api/v1/citations/10.1186/S12911-021-01451-8?format=json&exclude=citing&sort=desc(creation)&mailto=ajax@dblp.org\n",
    "\n",
    "\n",
    "https://dblp.org/rec/books/sp/Gomez-PerezDG20.html\n",
    "https://opencitations.net/index/api/v1/citations/10.1007/978-3-030-44830-1?format=json&exclude=citing&sort=desc(creation)&mailto=ajax@dblp.org"
   ]
  },
  {
   "cell_type": "code",
   "execution_count": null,
   "metadata": {},
   "outputs": [],
   "source": []
  }
 ],
 "metadata": {
  "kernelspec": {
   "display_name": "finsent",
   "language": "python",
   "name": "finsent"
  },
  "language_info": {
   "codemirror_mode": {
    "name": "ipython",
    "version": 3
   },
   "file_extension": ".py",
   "mimetype": "text/x-python",
   "name": "python",
   "nbconvert_exporter": "python",
   "pygments_lexer": "ipython3",
   "version": "3.6.13"
  }
 },
 "nbformat": 4,
 "nbformat_minor": 2
}
