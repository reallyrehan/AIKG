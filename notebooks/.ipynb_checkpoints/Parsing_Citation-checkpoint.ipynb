{
 "cells": [
  {
   "cell_type": "code",
   "execution_count": 3,
   "id": "phantom-interval",
   "metadata": {},
   "outputs": [],
   "source": [
    "import os,json"
   ]
  },
  {
   "cell_type": "code",
   "execution_count": 2,
   "id": "trained-grain",
   "metadata": {},
   "outputs": [
    {
     "data": {
      "text/plain": [
       "['.DS_Store',\n",
       " 'Merged_graphics.csv',\n",
       " 'Merged_ai.csv',\n",
       " 'output.json',\n",
       " 'semantic_scholar_articles_20000.csv',\n",
       " 'Merged_vision.csv',\n",
       " 'Merged_nlp.csv']"
      ]
     },
     "execution_count": 2,
     "metadata": {},
     "output_type": "execute_result"
    }
   ],
   "source": [
    "os.listdir('../data')"
   ]
  },
  {
   "cell_type": "code",
   "execution_count": 4,
   "id": "familiar-reviewer",
   "metadata": {},
   "outputs": [],
   "source": [
    "f = open('../data/output.json')\n",
    "t = f.read()\n",
    "f.close()"
   ]
  },
  {
   "cell_type": "code",
   "execution_count": 9,
   "id": "handmade-happening",
   "metadata": {},
   "outputs": [],
   "source": [
    "s = t.replace(t[0:15],'\\n'+t[0:15])"
   ]
  },
  {
   "cell_type": "code",
   "execution_count": 22,
   "id": "quantitative-hungarian",
   "metadata": {},
   "outputs": [],
   "source": [
    "ls = s.split('\\n')[1:]"
   ]
  },
  {
   "cell_type": "code",
   "execution_count": 28,
   "id": "molecular-traffic",
   "metadata": {},
   "outputs": [],
   "source": [
    "complete_ls = []"
   ]
  },
  {
   "cell_type": "code",
   "execution_count": 29,
   "id": "grave-project",
   "metadata": {},
   "outputs": [],
   "source": [
    "c=0\n",
    "for i in ls:\n",
    "    try:\n",
    "        complete_ls.append(json.loads(i[0:-1]))\n",
    "    except:\n",
    "        print(i)\n",
    "        print(c)\n",
    "    c=c+1\n",
    "    "
   ]
  },
  {
   "cell_type": "code",
   "execution_count": 31,
   "id": "impressed-calibration",
   "metadata": {},
   "outputs": [],
   "source": [
    "f = open('../data/output_compiled.json','w+')"
   ]
  },
  {
   "cell_type": "code",
   "execution_count": 33,
   "id": "super-religious",
   "metadata": {},
   "outputs": [],
   "source": [
    "json.dump(complete_ls,f)"
   ]
  },
  {
   "cell_type": "code",
   "execution_count": 34,
   "id": "inappropriate-blend",
   "metadata": {},
   "outputs": [],
   "source": [
    "f.close()"
   ]
  },
  {
   "cell_type": "code",
   "execution_count": null,
   "id": "derived-tattoo",
   "metadata": {},
   "outputs": [],
   "source": []
  },
  {
   "cell_type": "markdown",
   "id": "eleven-football",
   "metadata": {},
   "source": [
    "# Reading"
   ]
  },
  {
   "cell_type": "code",
   "execution_count": 35,
   "id": "european-merchant",
   "metadata": {},
   "outputs": [],
   "source": [
    "f = open('../data/output_compiled.json','r')"
   ]
  },
  {
   "cell_type": "code",
   "execution_count": 36,
   "id": "meaningful-forty",
   "metadata": {},
   "outputs": [],
   "source": [
    "js = json.load(f)"
   ]
  },
  {
   "cell_type": "code",
   "execution_count": 37,
   "id": "overall-addition",
   "metadata": {},
   "outputs": [],
   "source": [
    "f.close()"
   ]
  },
  {
   "cell_type": "code",
   "execution_count": 38,
   "id": "ambient-expert",
   "metadata": {},
   "outputs": [
    {
     "data": {
      "text/plain": [
       "20000"
      ]
     },
     "execution_count": 38,
     "metadata": {},
     "output_type": "execute_result"
    }
   ],
   "source": [
    "len(js)"
   ]
  }
 ],
 "metadata": {
  "kernelspec": {
   "display_name": "finsent",
   "language": "python",
   "name": "finsent"
  },
  "language_info": {
   "codemirror_mode": {
    "name": "ipython",
    "version": 3
   },
   "file_extension": ".py",
   "mimetype": "text/x-python",
   "name": "python",
   "nbconvert_exporter": "python",
   "pygments_lexer": "ipython3",
   "version": "3.6.13"
  }
 },
 "nbformat": 4,
 "nbformat_minor": 5
}
